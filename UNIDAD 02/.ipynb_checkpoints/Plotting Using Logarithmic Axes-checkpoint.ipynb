{
 "cells": [
  {
   "cell_type": "code",
   "execution_count": 5,
   "metadata": {},
   "outputs": [],
   "source": [
    "# A VECES SERÁ NECESARIO GRAFICAR LOGARITMICAMENTE ALGUNAS FUNCIONES\n",
    "import numpy as np\n",
    "import matplotlib.pyplot as plt"
   ]
  },
  {
   "cell_type": "code",
   "execution_count": 6,
   "metadata": {},
   "outputs": [],
   "source": [
    "# PARA ESTO, CONVERTIREMOS X O Y EN VALORES LOGARITMICOS SEGUN SEA EL CASO\n",
    "#para eso utilizaremos \n",
    "#semilogx(): traza x con escala logaritmica y y en escala normal\n",
    "#semilogy():traza y con escala logaritmica y x en escala normal\n",
    "#loglog(): traza x y  y con escala logaritmica "
   ]
  },
  {
   "cell_type": "code",
   "execution_count": 11,
   "metadata": {},
   "outputs": [
    {
     "data": {
      "text/plain": [
       "array([ 0.1       ,  0.11253356,  0.12663802,  0.14251027,  0.16037187,\n",
       "        0.18047218,  0.20309176,  0.22854639,  0.25719138,  0.28942661,\n",
       "        0.32570207,  0.36652412,  0.41246264,  0.46415888,  0.52233451,\n",
       "        0.58780161,  0.66147406,  0.7443803 ,  0.83767764,  0.94266846,\n",
       "        1.06081836,  1.19377664,  1.34339933,  1.51177507,  1.70125428,\n",
       "        1.91448198,  2.15443469,  2.42446202,  2.72833338,  3.07029063,\n",
       "        3.45510729,  3.88815518,  4.37547938,  4.92388263,  5.54102033,\n",
       "        6.23550734,  7.01703829,  7.89652287,  8.88623816, 10.        ])"
      ]
     },
     "execution_count": 11,
     "metadata": {},
     "output_type": "execute_result"
    }
   ],
   "source": [
    "x=np.logspace(-1,1,40)\n",
    "x"
   ]
  },
  {
   "cell_type": "code",
   "execution_count": 12,
   "metadata": {},
   "outputs": [
    {
     "data": {
      "text/plain": [
       "[<matplotlib.lines.Line2D at 0x1a7b9821888>]"
      ]
     },
     "execution_count": 12,
     "metadata": {},
     "output_type": "execute_result"
    },
    {
     "data": {
      "image/png": "[encoded data removed]",
      "text/plain": [
       "<Figure size 432x288 with 1 Axes>"
      ]
     },
     "metadata": {
      "needs_background": "light"
     },
     "output_type": "display_data"
    }
   ],
   "source": [
    "#practica\n",
    "x = np.logspace(0,1,10)\n",
    "y = x**2\n",
    "plt.loglog(x,y,\"bo-\")"
   ]
  },
  {
   "cell_type": "code",
   "execution_count": null,
   "metadata": {},
   "outputs": [],
   "source": []
  }
 ],
 "metadata": {
  "kernelspec": {
   "display_name": "Python 3",
   "language": "python",
   "name": "python3"
  },
  "language_info": {
   "codemirror_mode": {
    "name": "ipython",
    "version": 3
   },
   "file_extension": ".py",
   "mimetype": "text/x-python",
   "name": "python",
   "nbconvert_exporter": "python",
   "pygments_lexer": "ipython3",
   "version": "3.7.6"
  }
 },
 "nbformat": 4,
 "nbformat_minor": 4
}
