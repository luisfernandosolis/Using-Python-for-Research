{
 "cells": [
  {
   "cell_type": "code",
   "execution_count": 3,
   "metadata": {},
   "outputs": [],
   "source": [
    "import string\n",
    "alphabet=string.ascii_lowercase"
   ]
  },
  {
   "cell_type": "code",
   "execution_count": 5,
   "metadata": {},
   "outputs": [
    {
     "name": "stdout",
     "output_type": "stream",
     "text": [
      "{0: 'a', 1: 'b', 2: 'c', 3: 'd', 4: 'e', 5: 'f', 6: 'g', 7: 'h', 8: 'i', 9: 'j', 10: 'k', 11: 'l', 12: 'm', 13: 'n', 14: 'o', 15: 'p', 16: 'q', 17: 'r', 18: 's', 19: 't', 20: 'u', 21: 'v', 22: 'w', 23: 'x', 24: 'y', 25: 'z', 26: ' '}\n"
     ]
    }
   ],
   "source": [
    "import string\n",
    "string.ascii_lowercase\n",
    "\n",
    "# We will consider the alphabet to be these letters, along with a space.\n",
    "alphabet = string.ascii_lowercase + \" \"\n",
    "\n",
    "# create `letters` here!\n",
    "letters = {0:'a', 1:'b', 2:'c', 3:'d', 4:'e', 5:'f', 6:'g', 7:'h', 8:'i'\n",
    "           , 9:'j', 10:'k', 11:'l', 12:'m', 13:'n', 14:'o', 15:'p', 16:'q'\n",
    "           , 17:'r', 18:'s', 19:'t', 20:'u', 21:'v', 22:'w', 23:'x', 24:'y'\n",
    "           , 25:'z', 26:' '}\n",
    "\n",
    "#Another way is:\n",
    "\n",
    "letters = {i:alphabet[i] for i in range(0,27)}\n",
    "print(letters)"
   ]
  },
  {
   "cell_type": "code",
   "execution_count": 6,
   "metadata": {},
   "outputs": [
    {
     "name": "stdout",
     "output_type": "stream",
     "text": [
      "{'a': 3, 'b': 4, 'c': 5, 'd': 6, 'e': 7, 'f': 8, 'g': 9, 'h': 10, 'i': 11, 'j': 12, 'k': 13, 'l': 14, 'm': 15, 'n': 16, 'o': 17, 'p': 18, 'q': 19, 'r': 20, 's': 21, 't': 22, 'u': 23, 'v': 24, 'w': 25, 'x': 26, 'y': 0, 'z': 1, ' ': 2}\n"
     ]
    }
   ],
   "source": [
    "encryption_key = 3\n",
    "\n",
    "# define `encoding` here!\n",
    "encoding = {alphabet[i]:((i + encryption_key) % 27) for i in range(27)}\n",
    "\n",
    "#OR\n",
    "\n",
    "#alphabet_len = len(alphabet)\n",
    "#encoding = {alphabet[i]:((i + encryption_key) % alphabet_len) for i in range(alphabet_len)}\n",
    "\n",
    "print(encoding)"
   ]
  },
  {
   "cell_type": "code",
   "execution_count": 7,
   "metadata": {},
   "outputs": [
    {
     "name": "stdout",
     "output_type": "stream",
     "text": [
      "klcpacqdphclvcfdhvdu\n"
     ]
    }
   ],
   "source": [
    "\n",
    "# Exercise 3\n",
    "#-----------\n",
    "\n",
    "#alphabet and letters are preloaded from the previous exercise. Write a function \n",
    "#caesar(message, encryption_key) to encode a message with the Caesar cipher.\n",
    "\n",
    "#Use your code from Exercise 2 to find the value of encoding for each letter in message.\n",
    "\n",
    "#Use these values as keys in the dictionary letters to determine the encoded \n",
    "#letter for each letter in message.\n",
    "#Your function should return a string consisting of these encoded letters.\n",
    "\n",
    "#Use caesar to encode message using encryption_key = 3, and save the result as encoded_message.\n",
    "\n",
    "#Print encoded_message.\n",
    "\n",
    "message = \"hi my name is caesar\"\n",
    "\n",
    "def caesar(message, key):\n",
    "    # return the encoded message as a single string!\n",
    "    alphabet_len = len(alphabet)\n",
    "    encoded_message = {alphabet[i]:((i + key) % alphabet_len) for i in range(alphabet_len)}\n",
    "    return ''.join([alphabet[encoded_message[letter]] for letter in message])\n",
    "    \n",
    "encoded_message = caesar(message, 3)\n",
    "\n",
    "print(encoded_message)"
   ]
  },
  {
   "cell_type": "code",
   "execution_count": 8,
   "metadata": {},
   "outputs": [
    {
     "name": "stdout",
     "output_type": "stream",
     "text": [
      "hi my name is caesar\n"
     ]
    }
   ],
   "source": [
    "decoded_message = caesar(encoded_message, -3)\n",
    "print(decoded_message)"
   ]
  },
  {
   "cell_type": "code",
   "execution_count": null,
   "metadata": {},
   "outputs": [],
   "source": []
  }
 ],
 "metadata": {
  "kernelspec": {
   "display_name": "Python 3",
   "language": "python",
   "name": "python3"
  },
  "language_info": {
   "codemirror_mode": {
    "name": "ipython",
    "version": 3
   },
   "file_extension": ".py",
   "mimetype": "text/x-python",
   "name": "python",
   "nbconvert_exporter": "python",
   "pygments_lexer": "ipython3",
   "version": "3.7.6"
  }
 },
 "nbformat": 4,
 "nbformat_minor": 4
}
