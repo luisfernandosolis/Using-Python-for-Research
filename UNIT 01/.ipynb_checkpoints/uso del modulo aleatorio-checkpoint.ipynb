{
 "cells": [
  {
   "cell_type": "code",
   "execution_count": 41,
   "metadata": {},
   "outputs": [],
   "source": [
    "import numpy as np\n",
    "import matplotlib.pyplot as plt"
   ]
  },
  {
   "cell_type": "code",
   "execution_count": 15,
   "metadata": {},
   "outputs": [
    {
     "data": {
      "text/plain": [
       "0.8508614295274902"
      ]
     },
     "execution_count": 15,
     "metadata": {},
     "output_type": "execute_result"
    }
   ],
   "source": [
    "np.random.random()"
   ]
  },
  {
   "cell_type": "code",
   "execution_count": 17,
   "metadata": {},
   "outputs": [
    {
     "data": {
      "text/plain": [
       "array([0.79108666, 0.96447238, 0.79839296, 0.52246067, 0.04085757])"
      ]
     },
     "execution_count": 17,
     "metadata": {},
     "output_type": "execute_result"
    }
   ],
   "source": [
    "# generar 5 valores aleatorios normalmente distribuidos\n",
    "np.random.random(5)"
   ]
  },
  {
   "cell_type": "code",
   "execution_count": 18,
   "metadata": {},
   "outputs": [
    {
     "data": {
      "text/plain": [
       "array([[0.89465898, 0.75058448, 0.27243903, 0.35143206, 0.2064291 ],\n",
       "       [0.85052333, 0.584191  , 0.11892572, 0.59882815, 0.06305726],\n",
       "       [0.56998831, 0.58580367, 0.11852663, 0.24970231, 0.28203778]])"
      ]
     },
     "execution_count": 18,
     "metadata": {},
     "output_type": "execute_result"
    }
   ],
   "source": [
    "# para generar una mtriz de 2 dimensiones le pasamos 1 tuple (filas,columnas)\n",
    "np.random.random((3,5))"
   ]
  },
  {
   "cell_type": "code",
   "execution_count": 27,
   "metadata": {},
   "outputs": [
    {
     "data": {
      "text/plain": [
       "-0.07862641774822789"
      ]
     },
     "execution_count": 27,
     "metadata": {},
     "output_type": "execute_result"
    }
   ],
   "source": [
    "#distribucion normal estandar: le pasamos la media y la districion estandar como parametros\n",
    "\n",
    "np.random.normal(0,1)\n"
   ]
  },
  {
   "cell_type": "code",
   "execution_count": 28,
   "metadata": {},
   "outputs": [
    {
     "data": {
      "text/plain": [
       "array([-0.79712783, -1.30221477,  1.48242579,  1.09556613, -1.45967865])"
      ]
     },
     "execution_count": 28,
     "metadata": {},
     "output_type": "execute_result"
    }
   ],
   "source": [
    "#si queremos pintar una matriz de 1 dimension le pasamos el tercer parametro que indica la cantidad de numeros a generar.\n",
    "np.random.normal(0,1,5)"
   ]
  },
  {
   "cell_type": "code",
   "execution_count": 30,
   "metadata": {},
   "outputs": [
    {
     "data": {
      "text/plain": [
       "array([[-1.16339829, -0.45942543, -0.07060273, -1.51424861,  0.66206726],\n",
       "       [ 0.17656188,  0.36061105, -0.35268597, -0.83719902,  1.43002994],\n",
       "       [-1.10605295, -0.63280388,  1.07515769, -1.93268421, -1.06269635]])"
      ]
     },
     "execution_count": 30,
     "metadata": {},
     "output_type": "execute_result"
    }
   ],
   "source": [
    "#para generar matrices de más de una dimension, agregamos una tupla como tercer parametro\n",
    "np.random.normal(0,1,(3,5))"
   ]
  },
  {
   "cell_type": "code",
   "execution_count": 31,
   "metadata": {},
   "outputs": [],
   "source": [
    "#RETORNANDO AL EJEMPLO DE LOS DADOS: CADA FILA REPRESENTARÁ EL NUMERO DE LANZAMIENTO Y CADA COLUMNA LAS VARIABLES ALEATORIAS(1,10)\n",
    "\n",
    "X=np.random.randint(1,7,(3,10))"
   ]
  },
  {
   "cell_type": "code",
   "execution_count": 32,
   "metadata": {},
   "outputs": [
    {
     "data": {
      "text/plain": [
       "array([[6, 1, 3, 4, 4, 3, 1, 6, 3, 4],\n",
       "       [1, 6, 3, 4, 4, 3, 3, 4, 3, 5],\n",
       "       [6, 2, 3, 5, 1, 3, 4, 2, 6, 2]])"
      ]
     },
     "execution_count": 32,
     "metadata": {},
     "output_type": "execute_result"
    }
   ],
   "source": [
    "X"
   ]
  },
  {
   "cell_type": "code",
   "execution_count": 36,
   "metadata": {},
   "outputs": [
    {
     "data": {
      "text/plain": [
       "105"
      ]
     },
     "execution_count": 36,
     "metadata": {},
     "output_type": "execute_result"
    }
   ],
   "source": [
    "#ahora necesitamos sumar los elementos de la matriz, para ello vamos a implementar la funcion sum, que recibe como parametro la matriz y el eje a sumar(axis:0,1)\n",
    "#0: indica sumar cada fina en funcion a sus columnas.\n",
    "#1: indica sumar cada columna en funcion a las filas.\n",
    "np.sum(X)"
   ]
  },
  {
   "cell_type": "code",
   "execution_count": 34,
   "metadata": {},
   "outputs": [
    {
     "data": {
      "text/plain": [
       "array([13,  9,  9, 13,  9,  9,  8, 12, 12, 11])"
      ]
     },
     "execution_count": 34,
     "metadata": {},
     "output_type": "execute_result"
    }
   ],
   "source": [
    "np.sum(X,axis=0)"
   ]
  },
  {
   "cell_type": "code",
   "execution_count": 35,
   "metadata": {},
   "outputs": [
    {
     "data": {
      "text/plain": [
       "array([35, 36, 34])"
      ]
     },
     "execution_count": 35,
     "metadata": {},
     "output_type": "execute_result"
    }
   ],
   "source": [
    "np.sum(X,axis=1)"
   ]
  },
  {
   "cell_type": "code",
   "execution_count": 52,
   "metadata": {},
   "outputs": [],
   "source": [
    "#redefinimos el ejemplo del dado\n",
    "X=np.random.randint(1,7,(10000,10))"
   ]
  },
  {
   "cell_type": "code",
   "execution_count": 53,
   "metadata": {},
   "outputs": [
    {
     "data": {
      "text/plain": [
       "array([[1, 2, 6, ..., 2, 5, 5],\n",
       "       [5, 4, 2, ..., 6, 5, 4],\n",
       "       [6, 6, 2, ..., 3, 1, 6],\n",
       "       ...,\n",
       "       [2, 4, 2, ..., 6, 2, 3],\n",
       "       [3, 5, 2, ..., 2, 3, 1],\n",
       "       [3, 2, 4, ..., 4, 4, 2]])"
      ]
     },
     "execution_count": 53,
     "metadata": {},
     "output_type": "execute_result"
    }
   ],
   "source": [
    "X"
   ]
  },
  {
   "cell_type": "code",
   "execution_count": 54,
   "metadata": {},
   "outputs": [],
   "source": [
    "Y=np.sum(X,axis=1)"
   ]
  },
  {
   "cell_type": "code",
   "execution_count": 55,
   "metadata": {},
   "outputs": [
    {
     "data": {
      "text/plain": [
       "array([38, 44, 32, ..., 29, 33, 34])"
      ]
     },
     "execution_count": 55,
     "metadata": {},
     "output_type": "execute_result"
    }
   ],
   "source": [
    "Y"
   ]
  },
  {
   "cell_type": "code",
   "execution_count": 57,
   "metadata": {},
   "outputs": [
    {
     "data": {
      "text/plain": [
       "(array([   7.,   94.,  480., 1503., 2615., 2718., 1743.,  667.,  163.,\n",
       "          10.]),\n",
       " array([15. , 18.9, 22.8, 26.7, 30.6, 34.5, 38.4, 42.3, 46.2, 50.1, 54. ]),\n",
       " <a list of 10 Patch objects>)"
      ]
     },
     "execution_count": 57,
     "metadata": {},
     "output_type": "execute_result"
    },
    {
     "data": {
      "image/png": "[encoded data removed]",
      "text/plain": [
       "<Figure size 432x288 with 1 Axes>"
      ]
     },
     "metadata": {
      "needs_background": "light"
     },
     "output_type": "display_data"
    }
   ],
   "source": [
    "plt.hist(Y,color=\"blue\")"
   ]
  },
  {
   "cell_type": "code",
   "execution_count": 58,
   "metadata": {},
   "outputs": [
    {
     "data": {
      "text/plain": [
       "array([[[0.18163418, 0.70063612, 0.67681553],\n",
       "        [0.14406941, 0.54138961, 0.77105477]],\n",
       "\n",
       "       [[0.65515531, 0.16015111, 0.80362411],\n",
       "        [0.5338333 , 0.91778937, 0.89519071]],\n",
       "\n",
       "       [[0.24555765, 0.59621661, 0.15812026],\n",
       "        [0.80729194, 0.54936117, 0.25091716]],\n",
       "\n",
       "       [[0.54578413, 0.49618554, 0.90740264],\n",
       "        [0.89230316, 0.11692334, 0.11914104]],\n",
       "\n",
       "       [[0.86931959, 0.75224278, 0.21893604],\n",
       "        [0.49375302, 0.34485069, 0.90283359]]])"
      ]
     },
     "execution_count": 58,
     "metadata": {},
     "output_type": "execute_result"
    }
   ],
   "source": [
    "#prueba\n",
    "numpy.random.random((5,2,3))"
   ]
  },
  {
   "cell_type": "code",
   "execution_count": 59,
   "metadata": {},
   "outputs": [
    {
     "data": {
      "text/plain": [
       "array([347, 354, 354, 331, 330, 321, 346, 349, 383, 345])"
      ]
     },
     "execution_count": 59,
     "metadata": {},
     "output_type": "execute_result"
    }
   ],
   "source": [
    "#example 4\n",
    "numpy.sum(numpy.random.randint(1,7,(100,10)), axis=0)"
   ]
  },
  {
   "cell_type": "code",
   "execution_count": null,
   "metadata": {},
   "outputs": [],
   "source": []
  }
 ],
 "metadata": {
  "kernelspec": {
   "display_name": "Python 3",
   "language": "python",
   "name": "python3"
  },
  "language_info": {
   "codemirror_mode": {
    "name": "ipython",
    "version": 3
   },
   "file_extension": ".py",
   "mimetype": "text/x-python",
   "name": "python",
   "nbconvert_exporter": "python",
   "pygments_lexer": "ipython3",
   "version": "3.7.6"
  }
 },
 "nbformat": 4,
 "nbformat_minor": 4
}
