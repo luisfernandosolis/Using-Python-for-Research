{
 "cells": [
  {
   "cell_type": "code",
   "execution_count": 1,
   "metadata": {},
   "outputs": [
    {
     "data": {
      "text/plain": [
       "'\\n\\nInicio de la transcripción. Salta al final.\\nVamos a escribir una función que genere dos puntos de datos finales, donde\\nlos primeros puntos finales son de clase 0, y los segundos puntos finales\\n\\n'"
      ]
     },
     "execution_count": 1,
     "metadata": {},
     "output_type": "execute_result"
    }
   ],
   "source": [
    "\"\"\"\n",
    "\n",
    "Vamos a escribir una función que genere dos puntos de datos finales, donde\n",
    "los primeros puntos finales son de clase 0, y los segundos puntos finales\n",
    "\n",
    "\"\"\""
   ]
  },
  {
   "cell_type": "code",
   "execution_count": 9,
   "metadata": {},
   "outputs": [],
   "source": [
    "import scipy.stats as ss\n",
    "import numpy as np"
   ]
  },
  {
   "cell_type": "code",
   "execution_count": 11,
   "metadata": {},
   "outputs": [],
   "source": [
    "a=ss.norm(0,1).rvs((5,2))"
   ]
  },
  {
   "cell_type": "code",
   "execution_count": 10,
   "metadata": {},
   "outputs": [],
   "source": [
    "b=ss.norm(0,1).rvs((5,2))"
   ]
  },
  {
   "cell_type": "code",
   "execution_count": 14,
   "metadata": {},
   "outputs": [
    {
     "data": {
      "text/plain": [
       "array([[-0.08879924,  0.68667625],\n",
       "       [ 1.04271916,  0.58008367],\n",
       "       [ 0.06834483, -0.61715887],\n",
       "       [-0.09349113, -0.4513001 ],\n",
       "       [-0.674991  ,  0.96693875],\n",
       "       [ 0.09700004,  0.12839916],\n",
       "       [ 0.39968381, -0.78927985],\n",
       "       [ 0.31293591,  0.60520979],\n",
       "       [-1.67329949, -0.81072574],\n",
       "       [ 1.35019224,  1.2594381 ]])"
      ]
     },
     "execution_count": 14,
     "metadata": {},
     "output_type": "execute_result"
    }
   ],
   "source": [
    "np.concatenate((a,b),axis=0)"
   ]
  },
  {
   "cell_type": "code",
   "execution_count": 17,
   "metadata": {},
   "outputs": [
    {
     "data": {
      "text/plain": [
       "array([[ 6.42840325e-01,  2.69030395e-01],\n",
       "       [-4.65334717e-02,  2.15167276e+00],\n",
       "       [-1.57673039e-03,  3.52945990e-01],\n",
       "       [ 3.70722814e-01,  2.54514731e-01],\n",
       "       [ 6.89238563e-01,  3.18083412e-01],\n",
       "       [ 6.21609187e-01,  1.18069515e+00],\n",
       "       [ 9.76440365e-01, -5.57483808e-01],\n",
       "       [ 3.73038167e-01, -2.65116620e-01],\n",
       "       [ 7.74575044e-01,  4.28331831e-01],\n",
       "       [-3.72348635e-02,  3.19927551e-01],\n",
       "       [ 2.35607742e-01,  5.99900439e-02],\n",
       "       [-9.97038441e-01, -1.84284903e+00],\n",
       "       [-6.30857111e-02,  2.09392808e-01],\n",
       "       [ 2.47326286e-01,  1.35507901e-01],\n",
       "       [-2.05844035e-01,  2.92964658e-01],\n",
       "       [ 1.39547929e+00, -5.00467125e-01],\n",
       "       [-3.70582405e-01,  8.93055348e-01],\n",
       "       [-9.52112002e-01, -1.66907061e+00],\n",
       "       [ 6.12220947e-02,  1.20399102e+00],\n",
       "       [-1.38055969e+00,  1.99363430e-01]])"
      ]
     },
     "execution_count": 17,
     "metadata": {},
     "output_type": "execute_result"
    }
   ],
   "source": [
    "n=10\n",
    "a=ss.norm(0,1).rvs((n,2))\n",
    "b=ss.norm(0,1).rvs((n,2))\n",
    "np.concatenate((a,b),axis=0)"
   ]
  },
  {
   "cell_type": "code",
   "execution_count": 26,
   "metadata": {},
   "outputs": [
    {
     "data": {
      "text/plain": [
       "array([0, 0, 0, 0, 0, 0, 0, 0, 0, 0, 1, 1, 1, 1, 1, 1, 1, 1, 1, 1])"
      ]
     },
     "execution_count": 26,
     "metadata": {},
     "output_type": "execute_result"
    }
   ],
   "source": [
    "c=np.repeat(0,n)\n",
    "d=np.repeat(1,n)\n",
    "np.concatenate((c,d))"
   ]
  },
  {
   "cell_type": "code",
   "execution_count": 32,
   "metadata": {},
   "outputs": [],
   "source": [
    "def generate_synth_data(n=50):\n",
    "    \"\"\"Create two sets of points from bivariate normal distribution\"\"\"\n",
    "    points=np.concatenate((ss.norm(0,1).rvs((n,2)),ss.norm(0,1).rvs((n,2))),axis=0)\n",
    "    outcomes=np.concatenate((np.repeat(0,n),np.repeat(1,n)))\n",
    "    return (points,outcomes)\n",
    "    \n",
    "    "
   ]
  },
  {
   "cell_type": "code",
   "execution_count": 45,
   "metadata": {},
   "outputs": [
    {
     "data": {
      "text/plain": [
       "array([[-0.1742801 ,  0.51817173],\n",
       "       [-0.40583992,  1.61729765],\n",
       "       [ 0.31072587, -1.18330893],\n",
       "       [-1.15817526,  0.53549048],\n",
       "       [ 0.64809978,  0.58575942],\n",
       "       [ 0.80341741,  2.02032949],\n",
       "       [ 0.19705953, -0.95458454],\n",
       "       [ 0.58633584, -1.01233623],\n",
       "       [ 1.70895248, -0.02084383],\n",
       "       [ 1.56278733,  1.51653369],\n",
       "       [ 1.74954992,  0.70796511],\n",
       "       [-0.42159091, -0.45416935],\n",
       "       [ 1.08830026, -2.35299796],\n",
       "       [ 1.68800191, -0.55510022],\n",
       "       [ 0.00629678, -0.16013818],\n",
       "       [-0.39801022,  0.06617521],\n",
       "       [-0.7588272 ,  1.60432752],\n",
       "       [ 1.89823232, -0.14753395],\n",
       "       [-0.38745928,  1.04786618],\n",
       "       [ 2.06908634,  0.2499534 ],\n",
       "       [-0.98767739, -0.22374636],\n",
       "       [ 0.09681492, -1.1586445 ],\n",
       "       [ 1.00041817, -0.31640244],\n",
       "       [ 0.3204042 , -0.0841814 ],\n",
       "       [ 0.58724373,  1.57122981],\n",
       "       [ 0.63486392, -1.67790766],\n",
       "       [-0.66985716,  0.42301864],\n",
       "       [-0.62021358, -1.19283059],\n",
       "       [-0.15543937, -0.44984031],\n",
       "       [ 0.05256219,  0.02478075],\n",
       "       [ 1.03476578, -0.3212802 ],\n",
       "       [-0.4569097 , -1.56865163],\n",
       "       [-1.13987778, -0.29676246],\n",
       "       [-1.07843599, -0.29714532],\n",
       "       [-1.14405901,  0.87527608],\n",
       "       [-0.90234725,  0.66589653],\n",
       "       [-1.82821878,  0.59685105],\n",
       "       [-0.08235539,  1.13073059],\n",
       "       [ 0.48787624,  0.64553645],\n",
       "       [ 0.49944406,  0.12909671]])"
      ]
     },
     "execution_count": 45,
     "metadata": {},
     "output_type": "execute_result"
    }
   ],
   "source": [
    "n=20\n",
    "points,outcomes=generate_synth_data(n)\n",
    "points"
   ]
  },
  {
   "cell_type": "code",
   "execution_count": 36,
   "metadata": {},
   "outputs": [],
   "source": [
    "#graficamos"
   ]
  },
  {
   "cell_type": "code",
   "execution_count": 37,
   "metadata": {},
   "outputs": [],
   "source": [
    "import matplotlib.pyplot as plt"
   ]
  },
  {
   "cell_type": "code",
   "execution_count": 51,
   "metadata": {},
   "outputs": [
    {
     "data": {
      "image/png": "[encoded data removed]",
      "text/plain": [
       "<Figure size 432x288 with 1 Axes>"
      ]
     },
     "metadata": {
      "needs_background": "light"
     },
     "output_type": "display_data"
    }
   ],
   "source": [
    "plt.figure()\n",
    "\n",
    "plt.plot(points[:n,0],points[:n,1],\"ro\")\n",
    "plt.plot(points[n:,0],points[n:,1],\"bo\")\n",
    "plt.savefig(\"bivariate.pdf\")"
   ]
  },
  {
   "cell_type": "code",
   "execution_count": null,
   "metadata": {},
   "outputs": [],
   "source": []
  }
 ],
 "metadata": {
  "kernelspec": {
   "display_name": "Python 3",
   "language": "python",
   "name": "python3"
  },
  "language_info": {
   "codemirror_mode": {
    "name": "ipython",
    "version": 3
   },
   "file_extension": ".py",
   "mimetype": "text/x-python",
   "name": "python",
   "nbconvert_exporter": "python",
   "pygments_lexer": "ipython3",
   "version": "3.7.6"
  }
 },
 "nbformat": 4,
 "nbformat_minor": 4
}
