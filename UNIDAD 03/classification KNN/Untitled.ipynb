{
 "cells": [
  {
   "cell_type": "code",
   "execution_count": 1,
   "metadata": {},
   "outputs": [],
   "source": [
    "##implementing knn algorithm for classifier"
   ]
  },
  {
   "cell_type": "code",
   "execution_count": 2,
   "metadata": {},
   "outputs": [],
   "source": [
    "#importing modules\n",
    "import numpy as np\n",
    "import matplotlib.pyplot as plt\n",
    "import random"
   ]
  },
  {
   "cell_type": "code",
   "execution_count": 3,
   "metadata": {},
   "outputs": [],
   "source": [
    "## iris classfier from sklearn dataset"
   ]
  },
  {
   "cell_type": "code",
   "execution_count": 4,
   "metadata": {},
   "outputs": [],
   "source": [
    "p1=np.array([1,2])\n",
    "p2=np.array([2,4])\n"
   ]
  },
  {
   "cell_type": "code",
   "execution_count": 5,
   "metadata": {},
   "outputs": [],
   "source": [
    "## distance between two poits\n",
    "\n",
    "def distance(p1,p2):\n",
    "    \"\"\"Retorna la distancia que hay entre p1 y p2\"\"\"\n",
    "    return np.sqrt(sum(np.power(p2-p1,2)))\n",
    "    "
   ]
  },
  {
   "cell_type": "code",
   "execution_count": 6,
   "metadata": {},
   "outputs": [
    {
     "data": {
      "text/plain": [
       "2.23606797749979"
      ]
     },
     "execution_count": 6,
     "metadata": {},
     "output_type": "execute_result"
    }
   ],
   "source": [
    "distance(p1,p2)"
   ]
  },
  {
   "cell_type": "code",
   "execution_count": 7,
   "metadata": {},
   "outputs": [],
   "source": [
    "## definimos la freciencia de aparicion de cada voto.\n",
    "def majority_vote(votes):\n",
    "    \"\"\"Return the most common vote in the secuence\"\"\"\n",
    "    vote_counts={}\n",
    "    for vote in votes:\n",
    "        if vote in vote_counts:\n",
    "            vote_counts[vote]+=1\n",
    "        else:\n",
    "            vote_counts[vote]=1\n",
    "            \n",
    "    winners=[]\n",
    "    max_counts=max(vote_counts.values())\n",
    "    for vote,count in vote_counts.items():\n",
    "        if count==max_counts:\n",
    "            winners.append(vote)\n",
    "    \n",
    "    return random.choice(winners)"
   ]
  },
  {
   "cell_type": "code",
   "execution_count": 8,
   "metadata": {},
   "outputs": [
    {
     "data": {
      "text/plain": [
       "[<matplotlib.lines.Line2D at 0x13f331a8e08>]"
      ]
     },
     "execution_count": 8,
     "metadata": {},
     "output_type": "execute_result"
    },
    {
     "data": {
      "image/png": "[encoded data removed]",
      "text/plain": [
       "<Figure size 432x288 with 1 Axes>"
      ]
     },
     "metadata": {
      "needs_background": "light"
     },
     "output_type": "display_data"
    }
   ],
   "source": [
    "## encontrando los k vecinos más cercanos a p\n",
    "# defining a set of points \n",
    "points=np.array([[1,1],[1,2],[1,3],[2,1],[2,2],[2,3],[3,1],[3,2],[3,3]])\n",
    "plt.plot(points[:,0],points[:,1],\"ro\")\n",
    "new_point=np.array([2.5,2.2])\n",
    "plt.plot(new_point[0],new_point[1],\"bo\")\n",
    "## la tarea es encontrar los k vecinos más cercanos al punto azul"
   ]
  },
  {
   "cell_type": "code",
   "execution_count": 13,
   "metadata": {},
   "outputs": [
    {
     "data": {
      "text/plain": [
       "array([0., 0., 0., 0., 0., 0., 0., 0., 0.])"
      ]
     },
     "execution_count": 13,
     "metadata": {},
     "output_type": "execute_result"
    }
   ],
   "source": [
    "#trabajando, calcular todas las distancias del punto azul con respecto al resto\n",
    "\n",
    "distances=np.zeros(points.shape[0])\n",
    "distances"
   ]
  },
  {
   "cell_type": "code",
   "execution_count": null,
   "metadata": {},
   "outputs": [],
   "source": []
  },
  {
   "cell_type": "code",
   "execution_count": 14,
   "metadata": {},
   "outputs": [],
   "source": [
    "for i in range(len(points)):\n",
    "    distances[i]=distance(new_point,points[i])\n",
    "    "
   ]
  },
  {
   "cell_type": "code",
   "execution_count": 15,
   "metadata": {},
   "outputs": [
    {
     "data": {
      "text/plain": [
       "array([1.92093727, 1.5132746 , 1.7       , 1.3       , 0.53851648,\n",
       "       0.94339811, 1.3       , 0.53851648, 0.94339811])"
      ]
     },
     "execution_count": 15,
     "metadata": {},
     "output_type": "execute_result"
    }
   ],
   "source": [
    "distances"
   ]
  },
  {
   "cell_type": "code",
   "execution_count": 16,
   "metadata": {},
   "outputs": [
    {
     "data": {
      "text/plain": [
       "array([4, 7, 5, 8, 3, 6, 1, 2, 0], dtype=int64)"
      ]
     },
     "execution_count": 16,
     "metadata": {},
     "output_type": "execute_result"
    }
   ],
   "source": [
    "# ya tenemos las distancias del punto  \"new_point\" con respecto a los otros, ahora escogemos solo los k más cercanos\n",
    "#en numpy tenemos una opcion de ordenar valores de menor a mayor y devuelve una lista de los indices.\n",
    "#argsort se llama la funcion\n",
    "k_index=np.argsort(distances)\n",
    "k_index"
   ]
  },
  {
   "cell_type": "code",
   "execution_count": 17,
   "metadata": {},
   "outputs": [],
   "source": [
    "## todo est lo llevamos a una funcion\n"
   ]
  },
  {
   "cell_type": "code",
   "execution_count": 18,
   "metadata": {},
   "outputs": [],
   "source": [
    "def find_nearest_neighbors(p,points,k=5):\n",
    "    distances=np.zeros(points.shape[0])\n",
    "    for i in range(len(points)):\n",
    "        distances[i]=distance(p,points[i])\n",
    "    k_index=np.argsort(distances)\n",
    "    return k_index[:k]\n",
    "    "
   ]
  },
  {
   "cell_type": "code",
   "execution_count": 21,
   "metadata": {},
   "outputs": [
    {
     "data": {
      "text/plain": [
       "array([4, 7, 5], dtype=int64)"
      ]
     },
     "execution_count": 21,
     "metadata": {},
     "output_type": "execute_result"
    }
   ],
   "source": [
    "#retornamos los vecinos más cercanos\n",
    "find_nearest_neighbors(new_point,points,k=3)"
   ]
  },
  {
   "cell_type": "code",
   "execution_count": 210,
   "metadata": {},
   "outputs": [],
   "source": [
    "## ya tenemos los vecinos más cercanos de un punto sobre el resto del set de datos, ahora queda definir el predictor de \"new_point\", para saber a que grupo o clase pertenece\n",
    "# en MLS, siempre habrá un feature y un target para cada feature.. tenemos el feature, ahora definimos un target para cada feature, esta definírá a qué \n",
    "#clase pertenecen cada una de ellas"
   ]
  },
  {
   "cell_type": "code",
   "execution_count": 22,
   "metadata": {},
   "outputs": [
    {
     "data": {
      "text/plain": [
       "array([2.5, 2.2])"
      ]
     },
     "execution_count": 22,
     "metadata": {},
     "output_type": "execute_result"
    }
   ],
   "source": [
    "points=np.array([[1,1],[1,2],[1,3],[2,1],[2,2],[2,3],[3,1],[3,2],[3,3]])\n",
    "outcomes=np.array([0,0,0,0,1,1,1,1,1])\n",
    "\n",
    "new_point"
   ]
  },
  {
   "cell_type": "code",
   "execution_count": 212,
   "metadata": {},
   "outputs": [
    {
     "data": {
      "text/plain": [
       "(array([[1, 1],\n",
       "        [1, 2],\n",
       "        [1, 3],\n",
       "        [2, 1],\n",
       "        [2, 2],\n",
       "        [2, 3],\n",
       "        [3, 1],\n",
       "        [3, 2],\n",
       "        [3, 3]]),\n",
       " array([0, 0, 0, 0, 1, 1, 1, 1, 1]))"
      ]
     },
     "execution_count": 212,
     "metadata": {},
     "output_type": "execute_result"
    }
   ],
   "source": [
    "## como arquitectura de MLS quedaría así: \n",
    "features=points\n",
    "target=outcomes\n",
    "features,target"
   ]
  },
  {
   "cell_type": "code",
   "execution_count": 24,
   "metadata": {},
   "outputs": [],
   "source": [
    "## quedamos listos para definir nuestro predictor\n",
    "\n",
    "def knn_predict(p,points,outcome,k=5):\n",
    "    #encontramos los indices de los k vecimos más cercanos para p\n",
    "    k_neighbors=find_nearest_neighbors(p,points,k)\n",
    "    print(k_neighbors)\n",
    "    return majority_vote(outcome[k_neighbors])\n",
    "    "
   ]
  },
  {
   "cell_type": "code",
   "execution_count": 26,
   "metadata": {},
   "outputs": [
    {
     "name": "stdout",
     "output_type": "stream",
     "text": [
      "[4 7 5 8 3]\n"
     ]
    },
    {
     "data": {
      "text/plain": [
       "1"
      ]
     },
     "execution_count": 26,
     "metadata": {},
     "output_type": "execute_result"
    }
   ],
   "source": [
    "knn_predict(new_point,points,outcomes)"
   ]
  },
  {
   "cell_type": "code",
   "execution_count": 221,
   "metadata": {},
   "outputs": [
    {
     "data": {
      "text/plain": [
       "Text(0, 0.5, 'x2')"
      ]
     },
     "execution_count": 221,
     "metadata": {},
     "output_type": "execute_result"
    },
    {
     "data": {
      "image/png": "[encoded data removed]",
      "text/plain": [
       "<Figure size 432x288 with 1 Axes>"
      ]
     },
     "metadata": {
      "needs_background": "light"
     },
     "output_type": "display_data"
    }
   ],
   "source": [
    "##refactoring our points plot\n",
    "plt.figure()\n",
    "plt.plot(points[:4,0],points[:4,1],\"ro\") ## target 0 (rojo)\n",
    "plt.plot(points[4:,0],points[4:,1],\"go\") ## target 1 (verde)\n",
    "plt.plot(new_point[0],new_point[1],\"bo\") ## new point\n",
    "plt.xlabel(\"x1\")\n",
    "plt.ylabel(\"x2\")"
   ]
  },
  {
   "cell_type": "code",
   "execution_count": 25,
   "metadata": {},
   "outputs": [
    {
     "name": "stdout",
     "output_type": "stream",
     "text": [
      "[4 7 5 8 3]\n"
     ]
    },
    {
     "data": {
      "text/plain": [
       "1"
      ]
     },
     "execution_count": 25,
     "metadata": {},
     "output_type": "execute_result"
    }
   ],
   "source": [
    "##notoriamente podemosver que el punto azul \"new_point\" esta dentro de la clase verde: DEMOSTREMOS\n",
    "knn_predict(new_point,points,outcomes)"
   ]
  },
  {
   "cell_type": "code",
   "execution_count": 223,
   "metadata": {},
   "outputs": [],
   "source": [
    "## como vemos, la clasificacion lo hizo correctamente"
   ]
  },
  {
   "cell_type": "code",
   "execution_count": 224,
   "metadata": {},
   "outputs": [],
   "source": [
    "#####   OTRO EJEMPLO    #####"
   ]
  },
  {
   "cell_type": "code",
   "execution_count": 230,
   "metadata": {},
   "outputs": [
    {
     "data": {
      "text/plain": [
       "Text(0, 0.5, 'x2')"
      ]
     },
     "execution_count": 230,
     "metadata": {},
     "output_type": "execute_result"
    },
    {
     "data": {
      "image/png": "[encoded data removed]",
      "text/plain": [
       "<Figure size 432x288 with 1 Axes>"
      ]
     },
     "metadata": {
      "needs_background": "light"
     },
     "output_type": "display_data"
    }
   ],
   "source": [
    "new_second_point=np.array([1.5,2.5])\n",
    "#GRAFICAMOS\n",
    "plt.figure()\n",
    "plt.plot(points[:4,0],points[:4,1],\"ro\") ## target 0 (rojo)\n",
    "plt.plot(points[4:,0],points[4:,1],\"go\") ## target 1 (verde)\n",
    "plt.plot(new_second_point[0],new_second_point[1],\"yo\") ## new SECOND point\n",
    "plt.xlabel(\"x1\")\n",
    "plt.ylabel(\"x2\")\n"
   ]
  },
  {
   "cell_type": "code",
   "execution_count": 231,
   "metadata": {},
   "outputs": [
    {
     "data": {
      "text/plain": [
       "0"
      ]
     },
     "execution_count": 231,
     "metadata": {},
     "output_type": "execute_result"
    }
   ],
   "source": [
    "##predecimos a qué clase(target) puede pertenecer\n",
    "knn_predict(new_second_point,points,outcomes)"
   ]
  },
  {
   "cell_type": "code",
   "execution_count": 232,
   "metadata": {},
   "outputs": [],
   "source": [
    "##como se veía esperar, el resultado es el grupo cero."
   ]
  },
  {
   "cell_type": "code",
   "execution_count": null,
   "metadata": {},
   "outputs": [],
   "source": []
  }
 ],
 "metadata": {
  "kernelspec": {
   "display_name": "Python 3",
   "language": "python",
   "name": "python3"
  },
  "language_info": {
   "codemirror_mode": {
    "name": "ipython",
    "version": 3
   },
   "file_extension": ".py",
   "mimetype": "text/x-python",
   "name": "python",
   "nbconvert_exporter": "python",
   "pygments_lexer": "ipython3",
   "version": "3.7.6"
  }
 },
 "nbformat": 4,
 "nbformat_minor": 4
}
