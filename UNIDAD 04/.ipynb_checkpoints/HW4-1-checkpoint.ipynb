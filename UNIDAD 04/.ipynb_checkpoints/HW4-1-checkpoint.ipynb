{
 "cells": [
  {
   "cell_type": "markdown",
   "metadata": {},
   "source": [
    "# Using Python for Research Homework: Week 4, Case Study 1\n",
    "\n",
    "In this case study, we have prepared step-by-step instructions for you on how to prepare plots in Bokeh, a library designed for simple, interactive plotting.  We will demonstrate Bokeh by continuing the analysis of Scotch whiskies."
   ]
  },
  {
   "cell_type": "code",
   "execution_count": 8,
   "metadata": {
    "scrolled": true
   },
   "outputs": [],
   "source": [
    "# DO NOT EDIT THIS CODE\n",
    "from sklearn.cluster.bicluster import SpectralCoclustering\n",
    "import numpy as np, pandas as pd\n",
    "\n",
    "whisky = pd.read_csv(\"https://courses.edx.org/asset-v1:HarvardX+PH526x+2T2019+type@asset+block@whiskies.csv\", index_col=0)\n",
    "correlations = pd.DataFrame.corr(whisky.iloc[:,2:14].transpose())\n",
    "correlations = np.array(correlations)"
   ]
  },
  {
   "cell_type": "markdown",
   "metadata": {},
   "source": [
    "### Exercise 1\n",
    "\n",
    "In this exercise, we provide a basic demonstration of an interactive grid plot using Bokeh. Make sure to study this code now, as we will edit similar code in the exercises that follow.\n",
    "\n",
    "#### Instructions\n",
    "- Execute the following code and follow along with the comments. We will later adapt this code to plot the correlations among distillery flavor profiles as well as plot a geographical map of distilleries colored by region and flavor profile.\n",
    "- Once you have plotted the code, hover, click, and drag your cursor on the plot to interact with it. Additionally, explore the icons in the top-right corner of the plot for more interactive options!"
   ]
  },
  {
   "cell_type": "code",
   "execution_count": 9,
   "metadata": {
    "scrolled": true
   },
   "outputs": [
    {
     "name": "stdout",
     "output_type": "stream",
     "text": [
      "[(1, 1), (1, 2), (1, 3), (1, 4), (1, 5), (2, 1), (2, 2), (2, 3), (2, 4), (2, 5), (3, 1), (3, 2), (3, 3), (3, 4), (3, 5), (4, 1), (4, 2), (4, 3), (4, 4), (4, 5), (5, 1), (5, 2), (5, 3), (5, 4), (5, 5)]\n"
     ]
    }
   ],
   "source": [
    "# First, we import a tool to allow text to pop up on a plot when the cursor\n",
    "# hovers over it.  Also, we import a data structure used to store arguments\n",
    "# of what to plot in Bokeh.  Finally, we will use numpy for this section as well!\n",
    "\n",
    "from bokeh.models import HoverTool, ColumnDataSource\n",
    "\n",
    "# Let's plot a simple 5x5 grid of squares, alternating between two colors.\n",
    "plot_values = [1,2,3,4,5]\n",
    "plot_colors = ['#0173b2', '#de8f05']\n",
    "\n",
    "# How do we tell Bokeh to plot each point in a grid?  Let's use a function that\n",
    "# finds each combination of values from 1-5.\n",
    "from itertools import product\n",
    "\n",
    "grid = list(product(plot_values, plot_values))\n",
    "print(grid)"
   ]
  },
  {
   "cell_type": "code",
   "execution_count": 10,
   "metadata": {
    "scrolled": true
   },
   "outputs": [
    {
     "name": "stdout",
     "output_type": "stream",
     "text": [
      "(1, 1, 1, 1, 1, 2, 2, 2, 2, 2, 3, 3, 3, 3, 3, 4, 4, 4, 4, 4, 5, 5, 5, 5, 5)\n",
      "(1, 2, 3, 4, 5, 1, 2, 3, 4, 5, 1, 2, 3, 4, 5, 1, 2, 3, 4, 5, 1, 2, 3, 4, 5)\n"
     ]
    }
   ],
   "source": [
    "# The first value is the x coordinate, and the second value is the y coordinate.\n",
    "# Let's store these in separate lists.\n",
    "\n",
    "xs, ys = zip(*grid)\n",
    "print(xs)\n",
    "print(ys)"
   ]
  },
  {
   "cell_type": "code",
   "execution_count": 11,
   "metadata": {
    "scrolled": true
   },
   "outputs": [
    {
     "name": "stdout",
     "output_type": "stream",
     "text": [
      "['#0173b2', '#de8f05', '#0173b2', '#de8f05', '#0173b2', '#de8f05', '#0173b2', '#de8f05', '#0173b2', '#de8f05', '#0173b2', '#de8f05', '#0173b2', '#de8f05', '#0173b2', '#de8f05', '#0173b2', '#de8f05', '#0173b2', '#de8f05', '#0173b2', '#de8f05', '#0173b2', '#de8f05', '#0173b2']\n"
     ]
    }
   ],
   "source": [
    "# Now we will make a list of colors, alternating between red and blue.\n",
    "\n",
    "colors = [plot_colors[i%2] for i in range(len(grid))]\n",
    "print(colors)"
   ]
  },
  {
   "cell_type": "code",
   "execution_count": 12,
   "metadata": {
    "scrolled": true
   },
   "outputs": [],
   "source": [
    "# Finally, let's determine the strength of transparency (alpha) for each point,\n",
    "# where 0 is completely transparent.\n",
    "\n",
    "alphas = np.linspace(0, 1, len(grid))\n",
    "\n",
    "# Bokeh likes each of these to be stored in a special dataframe, called\n",
    "# ColumnDataSource.  Let's store our coordinates, colors, and alpha values.\n",
    "\n",
    "source = ColumnDataSource(\n",
    "    data = {\n",
    "        \"x\": xs,\n",
    "        \"y\": ys,\n",
    "        \"colors\": colors,\n",
    "        \"alphas\": alphas,\n",
    "    }\n",
    ")\n",
    "# We are ready to make our interactive Bokeh plot!\n",
    "from bokeh.plotting import figure, output_file, show\n",
    "\n",
    "output_file(\"Basic_Example.html\", title=\"Basic Example\")\n",
    "fig = figure(tools=\"hover\")\n",
    "fig.rect(\"x\", \"y\", 0.9, 0.9, source=source, color=\"colors\",alpha=\"alphas\")\n",
    "hover = fig.select(dict(type=HoverTool))\n",
    "hover.tooltips = {\n",
    "    \"Value\": \"@x, @y\",\n",
    "    }\n",
    "show(fig)"
   ]
  },
  {
   "cell_type": "markdown",
   "metadata": {},
   "source": [
    "### Exercise 2\n",
    "\n",
    "In this exercise, we will create the names and colors we will use to plot the correlation matrix of whisky flavors. Later, we will also use these colors to plot each distillery geographically.\n",
    "\n",
    "#### Instructions \n",
    "- Create a dictionary `region_colors` with `regions` as keys and `cluster_colors` as values.\n",
    "- Print `region_colors`."
   ]
  },
  {
   "cell_type": "code",
   "execution_count": 13,
   "metadata": {
    "scrolled": true
   },
   "outputs": [
    {
     "name": "stdout",
     "output_type": "stream",
     "text": [
      "{'Speyside': '#0173b2', 'Highlands': '#de8f05', 'Lowlands': '#029e73', 'Islands': '#d55e00', 'Campbelltown': '#cc78bc', 'Islay': '#ca9161'}\n"
     ]
    }
   ],
   "source": [
    "cluster_colors = ['#0173b2', '#de8f05', '#029e73', '#d55e00', '#cc78bc', '#ca9161']\n",
    "regions = [\"Speyside\", \"Highlands\", \"Lowlands\", \"Islands\", \"Campbelltown\", \"Islay\"]\n",
    "\n",
    "region_colors = dict(zip(regions, cluster_colors))\n",
    "print(region_colors)"
   ]
  },
  {
   "cell_type": "code",
   "execution_count": 14,
   "metadata": {},
   "outputs": [
    {
     "ename": "AttributeError",
     "evalue": "'DataFrame' object has no attribute 'ix'",
     "output_type": "error",
     "traceback": [
      "\u001b[1;31m---------------------------------------------------------------------------\u001b[0m",
      "\u001b[1;31mAttributeError\u001b[0m                            Traceback (most recent call last)",
      "\u001b[1;32m<ipython-input-14-555146d9ddcc>\u001b[0m in \u001b[0;36m<module>\u001b[1;34m\u001b[0m\n\u001b[0;32m     12\u001b[0m \u001b[0mmodel\u001b[0m\u001b[1;33m.\u001b[0m\u001b[0mfit\u001b[0m\u001b[1;33m(\u001b[0m\u001b[0mcorr_whisky\u001b[0m\u001b[1;33m)\u001b[0m\u001b[1;33m\u001b[0m\u001b[1;33m\u001b[0m\u001b[0m\n\u001b[0;32m     13\u001b[0m \u001b[0mwhisky\u001b[0m\u001b[1;33m[\u001b[0m\u001b[1;34m'Group'\u001b[0m\u001b[1;33m]\u001b[0m \u001b[1;33m=\u001b[0m \u001b[0mpd\u001b[0m\u001b[1;33m.\u001b[0m\u001b[0mSeries\u001b[0m\u001b[1;33m(\u001b[0m\u001b[0mmodel\u001b[0m\u001b[1;33m.\u001b[0m\u001b[0mrow_labels_\u001b[0m\u001b[1;33m,\u001b[0m \u001b[0mindex\u001b[0m\u001b[1;33m=\u001b[0m\u001b[0mwhisky\u001b[0m\u001b[1;33m.\u001b[0m\u001b[0mindex\u001b[0m\u001b[1;33m)\u001b[0m \u001b[1;31m# extract group labels from model and append to whisky table\u001b[0m\u001b[1;33m\u001b[0m\u001b[1;33m\u001b[0m\u001b[0m\n\u001b[1;32m---> 14\u001b[1;33m \u001b[0mwhisky\u001b[0m \u001b[1;33m=\u001b[0m \u001b[0mwhisky\u001b[0m\u001b[1;33m.\u001b[0m\u001b[0mix\u001b[0m\u001b[1;33m[\u001b[0m\u001b[0mnp\u001b[0m\u001b[1;33m.\u001b[0m\u001b[0margsort\u001b[0m\u001b[1;33m(\u001b[0m\u001b[0mmodel\u001b[0m\u001b[1;33m.\u001b[0m\u001b[0mrow_labels_\u001b[0m\u001b[1;33m)\u001b[0m\u001b[1;33m]\u001b[0m \u001b[1;31m# reorder rows by group labels\u001b[0m\u001b[1;33m\u001b[0m\u001b[1;33m\u001b[0m\u001b[0m\n\u001b[0m\u001b[0;32m     15\u001b[0m \u001b[0mwhisky\u001b[0m \u001b[1;33m=\u001b[0m \u001b[0mwhisky\u001b[0m\u001b[1;33m.\u001b[0m\u001b[0mreset_index\u001b[0m\u001b[1;33m(\u001b[0m\u001b[0mdrop\u001b[0m\u001b[1;33m=\u001b[0m\u001b[1;32mTrue\u001b[0m\u001b[1;33m)\u001b[0m \u001b[1;31m# reset index of the DataFrame\u001b[0m\u001b[1;33m\u001b[0m\u001b[1;33m\u001b[0m\u001b[0m\n\u001b[0;32m     16\u001b[0m \u001b[1;33m\u001b[0m\u001b[0m\n",
      "\u001b[1;32m~\\anaconda3\\lib\\site-packages\\pandas\\core\\generic.py\u001b[0m in \u001b[0;36m__getattr__\u001b[1;34m(self, name)\u001b[0m\n\u001b[0;32m   5272\u001b[0m         \u001b[1;32melse\u001b[0m\u001b[1;33m:\u001b[0m\u001b[1;33m\u001b[0m\u001b[1;33m\u001b[0m\u001b[0m\n\u001b[0;32m   5273\u001b[0m             \u001b[0mf\u001b[0m \u001b[1;33m=\u001b[0m \u001b[1;32mlambda\u001b[0m\u001b[1;33m:\u001b[0m \u001b[0mself\u001b[0m\u001b[1;33m.\u001b[0m\u001b[0m_data\u001b[0m\u001b[1;33m.\u001b[0m\u001b[0mconsolidate\u001b[0m\u001b[1;33m(\u001b[0m\u001b[1;33m)\u001b[0m\u001b[1;33m\u001b[0m\u001b[1;33m\u001b[0m\u001b[0m\n\u001b[1;32m-> 5274\u001b[1;33m             \u001b[0mcons_data\u001b[0m \u001b[1;33m=\u001b[0m \u001b[0mself\u001b[0m\u001b[1;33m.\u001b[0m\u001b[0m_protect_consolidate\u001b[0m\u001b[1;33m(\u001b[0m\u001b[0mf\u001b[0m\u001b[1;33m)\u001b[0m\u001b[1;33m\u001b[0m\u001b[1;33m\u001b[0m\u001b[0m\n\u001b[0m\u001b[0;32m   5275\u001b[0m             \u001b[1;32mreturn\u001b[0m \u001b[0mself\u001b[0m\u001b[1;33m.\u001b[0m\u001b[0m_constructor\u001b[0m\u001b[1;33m(\u001b[0m\u001b[0mcons_data\u001b[0m\u001b[1;33m)\u001b[0m\u001b[1;33m.\u001b[0m\u001b[0m__finalize__\u001b[0m\u001b[1;33m(\u001b[0m\u001b[0mself\u001b[0m\u001b[1;33m)\u001b[0m\u001b[1;33m\u001b[0m\u001b[1;33m\u001b[0m\u001b[0m\n\u001b[0;32m   5276\u001b[0m \u001b[1;33m\u001b[0m\u001b[0m\n",
      "\u001b[1;31mAttributeError\u001b[0m: 'DataFrame' object has no attribute 'ix'"
     ]
    }
   ],
   "source": [
    "\n",
    "import pandas as pd\n",
    "\n",
    "whisky = pd.read_csv(\"whiskies.txt\")\n",
    "whisky[\"Region\"] = pd.read_csv(\"regions.txt\")\n",
    "\n",
    "flavors = whisky.iloc[:, 2:14]\n",
    "corr_whisky = pd.DataFrame.corr(flavors.transpose())\n",
    "\n",
    "from sklearn.cluster.bicluster import SpectralCoclustering\n",
    "\n",
    "model = SpectralCoclustering(n_clusters=6, random_state=0)\n",
    "model.fit(corr_whisky)\n",
    "whisky['Group'] = pd.Series(model.row_labels_, index=whisky.index) # extract group labels from model and append to whisky table\n",
    "whisky = whisky.ix[np.argsort(model.row_labels_)] # reorder rows by group labels\n",
    "whisky = whisky.reset_index(drop=True) # reset index of the DataFrame\n",
    "\n",
    "correlations = pd.DataFrame.corr(whisky.iloc[:, 2:14].transpose())\n",
    "correlations = np.array(correlations)\n",
    "correlations"
   ]
  },
  {
   "cell_type": "markdown",
   "metadata": {},
   "source": [
    "### Exercise 3\n",
    "\n",
    "`correlations` is a two-dimensional `np.array` with both rows and columns corresponding to distilleries and elements corresponding to the flavor correlation of each row/column pair. In this exercise, we will define a list `correlation_colors`, with `string` values corresponding to colors to be used to plot each distillery pair. Low correlations among distillery pairs will be white, high correlations will be a distinct group color if the distilleries from the same group, and gray otherwise.\n",
    "\n",
    "#### Instructions\n",
    "\n",
    "- Edit the code to define `correlation_colors` for each distillery pair to have input `'white'` if their correlation is less than 0.7.\n",
    "- `whisky` is a `pandas` dataframe, and `Group` is a column consisting of distillery group memberships. For distillery pairs with correlation greater than 0.7, if they share the same whisky group, use the corresponding color from `cluster_colors`. Otherwise, the `correlation_colors` value for that distillery pair will be defined as `'lightgray'`."
   ]
  },
  {
   "cell_type": "code",
   "execution_count": null,
   "metadata": {
    "scrolled": true
   },
   "outputs": [],
   "source": [
    "distilleries = list(whisky.Distillery)\n",
    "correlation_colors = []\n",
    "for i in range(len(distilleries)):\n",
    "    for j in range(len(distilleries)):\n",
    "        if ## ENTER CODE HERE! ##                      # if low correlation,\n",
    "            correlation_colors.append('white')         # just use white.\n",
    "        else:                                          # otherwise,\n",
    "            if ## ENTER CODE HERE! ##                  # if the groups match,\n",
    "                correlation_colors.append(cluster_colors[whisky.Group[i]]) # color them by their mutual group.\n",
    "            else:                                      # otherwise\n",
    "                correlation_colors.append('lightgray') # color them lightgray."
   ]
  },
  {
   "cell_type": "markdown",
   "metadata": {},
   "source": [
    "### Exercise 4\n",
    "\n",
    "In this exercise, we will edit the given code to make an interactive grid of the correlations among distillery pairs based on the quantities found in previous exercises. Most plotting specifications are made by editing `ColumnDataSource`, a `bokeh` structure used for defining interactive plotting inputs. The rest of the plotting code is already complete.\n",
    "\n",
    "#### Instructions \n",
    "\n",
    "- `correlation_colors` is a list of `string` colors for each pair of distilleries. Set this as `color` in `ColumnDataSource`.\n",
    "- Define `correlations` in `source` using `correlations` from the previous exercise. To convert `correlations` from a `np.array` to a `list`, use the `flatten()` method. This correlation coefficient will be used to define both the color transparency as well as the hover text for each square."
   ]
  },
  {
   "cell_type": "code",
   "execution_count": null,
   "metadata": {
    "scrolled": true
   },
   "outputs": [],
   "source": [
    "source = ColumnDataSource(\n",
    "    data = {\n",
    "        \"x\": np.repeat(distilleries,len(distilleries)),\n",
    "        \"y\": list(distilleries)*len(distilleries),\n",
    "        \"colors\": ## ENTER CODE HERE! ##,\n",
    "        \"correlations\": ## ENTER CODE HERE! ##,\n",
    "    }\n",
    ")\n",
    "\n",
    "output_file(\"Whisky Correlations.html\", title=\"Whisky Correlations\")\n",
    "fig = figure(title=\"Whisky Correlations\",\n",
    "    x_axis_location=\"above\", x_range=list(reversed(distilleries)), y_range=distilleries,\n",
    "    tools=\"hover,box_zoom,reset\")\n",
    "fig.grid.grid_line_color = None\n",
    "fig.axis.axis_line_color = None\n",
    "fig.axis.major_tick_line_color = None\n",
    "fig.axis.major_label_text_font_size = \"5pt\"\n",
    "fig.xaxis.major_label_orientation = np.pi / 3\n",
    "fig.rect('x', 'y', .9, .9, source=source,\n",
    "     color='colors', alpha='correlations')\n",
    "hover = fig.select(dict(type=HoverTool))\n",
    "hover.tooltips = {\n",
    "    \"Whiskies\": \"@x, @y\",\n",
    "    \"Correlation\": \"@correlations\",\n",
    "}\n",
    "show(fig)"
   ]
  },
  {
   "cell_type": "markdown",
   "metadata": {},
   "source": [
    "### Exercise 5\n",
    "\n",
    "In this exercise, we give a demonstration of plotting geographic points.\n",
    "\n",
    "#### Instructions \n",
    "\n",
    "- Run the following code, to be adapted in the next section. Compare this code to that used in plotting the distillery correlations."
   ]
  },
  {
   "cell_type": "code",
   "execution_count": null,
   "metadata": {
    "scrolled": true
   },
   "outputs": [],
   "source": [
    "points = [(0,0), (1,2), (3,1)]\n",
    "xs, ys = zip(*points)\n",
    "colors = ['#0173b2', '#de8f05', '#029e73']\n",
    "\n",
    "output_file(\"Spatial_Example.html\", title=\"Regional Example\")\n",
    "location_source = ColumnDataSource(\n",
    "    data={\n",
    "        \"x\": xs,\n",
    "        \"y\": ys,\n",
    "        \"colors\": colors,\n",
    "    }\n",
    ")\n",
    "\n",
    "fig = figure(title = \"Title\",\n",
    "    x_axis_location = \"above\", tools=\"hover, save\")\n",
    "fig.plot_width  = 300\n",
    "fig.plot_height = 380\n",
    "fig.circle(\"x\", \"y\", size=10, source=location_source,\n",
    "     color='colors', line_color = None)\n",
    "\n",
    "hover = fig.select(dict(type = HoverTool))\n",
    "hover.tooltips = {\n",
    "    \"Location\": \"(@x, @y)\"\n",
    "}\n",
    "show(fig)"
   ]
  },
  {
   "cell_type": "markdown",
   "metadata": {},
   "source": [
    "### Exercise 6\n",
    "\n",
    "In this exercise, we will define a function `location_plot(title, colors)` that takes a string `title` and a list of colors corresponding to each distillery and outputs a Bokeh plot of each distillery by latitude and longitude. It will also display the distillery name, latitude, and longitude as hover text.\n",
    "\n",
    "#### Instructions \n",
    "\n",
    "- Adapt the given code beginning with the first comment and ending with `show(fig)` to create the function `location_plot()`, as described above.\n",
    "- `Region` is a column of in the `pandas` dataframe `whisky`, containing the regional group membership for each distillery. Make a list consisting of the value of `region_colors` for each distillery, and store this list as `region_cols`.\n",
    "- Use `location_plot` to plot each distillery, colored by its regional grouping."
   ]
  },
  {
   "cell_type": "code",
   "execution_count": null,
   "metadata": {
    "scrolled": true
   },
   "outputs": [],
   "source": [
    "# edit this to make the function `location_plot`.\n",
    "\n",
    "output_file(title+\".html\")\n",
    "location_source = ColumnDataSource(\n",
    "    data = {\n",
    "        \"x\": whisky[\" Latitude\"],\n",
    "        \"y\": whisky[\" Longitude\"],\n",
    "        \"colors\": colors,\n",
    "        \"regions\": whisky.Region,\n",
    "        \"distilleries\": whisky.Distillery\n",
    "    }\n",
    ")\n",
    "\n",
    "fig = figure(title = title,\n",
    "    x_axis_location = \"above\", tools=\"hover, save\")\n",
    "fig.plot_width  = 400\n",
    "fig.plot_height = 500\n",
    "fig.circle(\"x\", \"y\", size=9, source=location_source, color='colors', line_color = None)\n",
    "fig.xaxis.major_label_orientation = np.pi / 3\n",
    "hover = fig.select(dict(type = HoverTool))\n",
    "hover.tooltips = {\n",
    "    \"Distillery\": \"@distilleries\",\n",
    "    \"Location\": \"(@x, @y)\"\n",
    "}\n",
    "show(fig)\n",
    "\n",
    "region_cols = ## ENTER CODE HERE! ##\n",
    "location_plot(\"Whisky Locations and Regions\", region_cols)"
   ]
  },
  {
   "cell_type": "markdown",
   "metadata": {},
   "source": [
    "### Exercise 7 \n",
    "\n",
    "In this exercise, we will use this function to plot each distillery, colored by region and taste coclustering classification, respectively.\n",
    "\n",
    "#### Instructions \n",
    "- Create the list `region_cols` consisting of the color in `region_colors` that corresponds to each whisky in `whisky.Region`.\n",
    "- Similarly, create a list `classification_cols` consisting of the color in `cluster_colors` that corresponds to each cluster membership in `whisky.Group`.\n",
    "- Create two interactive plots of distilleries, one using `region_cols` and the other with colors defined by called `classification_cols`. How well do the coclustering groupings match the regional groupings?"
   ]
  },
  {
   "cell_type": "code",
   "execution_count": null,
   "metadata": {
    "scrolled": true
   },
   "outputs": [],
   "source": [
    "region_cols = ## ENTER CODE HERE! ##\n",
    "classification_cols = ## ENTER CODE HERE! ##\n",
    "\n",
    "location_plot(\"Whisky Locations and Regions\", region_cols)\n",
    "location_plot(\"Whisky Locations and Groups\", classification_cols)"
   ]
  }
 ],
 "metadata": {
  "hide_input": false,
  "kernelspec": {
   "display_name": "Python 3",
   "language": "python",
   "name": "python3"
  },
  "language_info": {
   "codemirror_mode": {
    "name": "ipython",
    "version": 3
   },
   "file_extension": ".py",
   "mimetype": "text/x-python",
   "name": "python",
   "nbconvert_exporter": "python",
   "pygments_lexer": "ipython3",
   "version": "3.7.6"
  },
  "toc": {
   "base_numbering": 1,
   "nav_menu": {},
   "number_sections": true,
   "sideBar": true,
   "skip_h1_title": false,
   "title_cell": "Table of Contents",
   "title_sidebar": "Contents",
   "toc_cell": false,
   "toc_position": {},
   "toc_section_display": true,
   "toc_window_display": false
  }
 },
 "nbformat": 4,
 "nbformat_minor": 4
}
